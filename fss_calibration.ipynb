{
 "cells": [
  {
   "cell_type": "markdown",
   "metadata": {},
   "source": [
    "# FSS investigation and calibration following 2015:264 safemode"
   ]
  },
  {
   "cell_type": "code",
   "execution_count": 1,
   "metadata": {
    "collapsed": true
   },
   "outputs": [],
   "source": [
    "%matplotlib inline"
   ]
  },
  {
   "cell_type": "code",
   "execution_count": 2,
   "metadata": {
    "collapsed": true
   },
   "outputs": [],
   "source": [
    "import numpy as np\n",
    "from astropy.time import Time\n",
    "import matplotlib.pyplot as plt\n",
    "\n",
    "from Ska.Numpy import interpolate\n",
    "from Ska.engarchive import fetch_eng as fetch\n",
    "from kadi import events\n",
    "from Ska.Matplotlib import plot_cxctime\n",
    "\n",
    "FSS_CAL = {'a': {'alpha': [-1.190313, 0.00007261314, -0.00001571],\n",
    "                 'beta': [-1.190563, 0.00007264188, -0.00005934]},\n",
    "           'b': {'alpha': [-1.190163, 0.00007266802, 0.0001902],\n",
    "                 'beta': [-1.19044, 0.00007265815, -0.0001902]}}"
   ]
  },
  {
   "cell_type": "code",
   "execution_count": 3,
   "metadata": {
    "collapsed": true
   },
   "outputs": [],
   "source": [
    "# Polynominal calibration coefficients (reversed for np.polyval)\n",
    "# Take from TDB PC cal curve\n",
    "ALPHA_ANG_PC = [-50.01873285, 0.001739300837, 4.202023792e-08, 9.617900394e-12, -1.570367949e-15,\n",
    "                1.756637723e-19, -1.118788495e-23, 3.775679639e-28, -6.421573874e-33,\n",
    "                4.369576818e-38][::-1]\n",
    "BETA_ANG_PC = [-50.16789839, 0.001739575081, 4.202728171e-08, 9.631457701e-12, -1.573063077e-15,\n",
    "               1.760037996e-19, -1.121133178e-23, 3.784196473e-28, -6.437103687e-33,\n",
    "               4.380850442e-38][::-1]"
   ]
  },
  {
   "cell_type": "code",
   "execution_count": 4,
   "metadata": {
    "collapsed": true
   },
   "outputs": [],
   "source": [
    "ODB_FSS_MISALIGN = np.zeros([4, 4, 3], dtype=np.float64)\n",
    "ODB_FSS_MISALIGN[1, 1, 1] = 9.999990450374580e-01\n",
    "ODB_FSS_MISALIGN[2, 1, 1] = -5.327615067743422e-07\n",
    "ODB_FSS_MISALIGN[3, 1, 1] = 1.381999959551952e-03\n",
    "ODB_FSS_MISALIGN[1, 2, 1] = 0.0\n",
    "ODB_FSS_MISALIGN[2, 2, 1] = 9.999999256947376e-01\n",
    "ODB_FSS_MISALIGN[3, 2, 1] = 3.855003493343671e-04\n",
    "ODB_FSS_MISALIGN[1, 3, 1] = -1.382000062241829e-03\n",
    "ODB_FSS_MISALIGN[2, 3, 1] = -3.854999811959735e-04\n",
    "ODB_FSS_MISALIGN[3, 3, 1] = 9.999989707322665e-01\n",
    "\n",
    "ODB_FSS_MISALIGN[1, 1, 2] = 9.999985515924564e-01\n",
    "ODB_FSS_MISALIGN[2, 1, 2] = 2.219418563716329e-06\n",
    "ODB_FSS_MISALIGN[3, 1, 2] = 1.702001193752122e-03\n",
    "ODB_FSS_MISALIGN[1, 2, 2] = 0.0\n",
    "ODB_FSS_MISALIGN[2, 2, 2] = 9.999991497861834e-01\n",
    "ODB_FSS_MISALIGN[3, 2, 2] = -1.304004183359718e-03\n",
    "ODB_FSS_MISALIGN[1, 3, 2] = -1.702002640818283e-03\n",
    "ODB_FSS_MISALIGN[2, 3, 2] = 1.304002294630222e-03\n",
    "ODB_FSS_MISALIGN[3, 3, 2] = 9.999977013798713e-01"
   ]
  },
  {
   "cell_type": "code",
   "execution_count": 5,
   "metadata": {
    "collapsed": true
   },
   "outputs": [],
   "source": [
    "# Generate a curve corresponding to the ground (TDB) calibration which\n",
    "# gets numerically inverted to compute on-board counts from ground angle.\n",
    "COUNTS = np.arange(40000)\n",
    "ALPHA_ANG = np.polyval(ALPHA_ANG_PC, COUNTS)\n",
    "BETA_ANG = np.polyval(BETA_ANG_PC, COUNTS)"
   ]
  },
  {
   "cell_type": "code",
   "execution_count": 6,
   "metadata": {
    "collapsed": true
   },
   "outputs": [],
   "source": [
    "def plot_compare_ground_obc_cal_curves(channel, fss='b'):\n",
    "    counts = np.arange(33000)\n",
    "    ang_pc = ALPHA_ANG_PC if channel == 'alpha' else BETA_ANG_PC\n",
    "    ground_angle = np.polyval(ang_pc, counts)\n",
    "\n",
    "    c0, c1, c2 = FSS_CAL[fss][channel]\n",
    "    obc_angle = np.degrees(np.arctan(c0 + c1 * counts) + c2)\n",
    "    plt.close(1)\n",
    "    plt.figure(1)\n",
    "    plt.plot(obc_angle, ground_angle - obc_angle)"
   ]
  },
  {
   "cell_type": "code",
   "execution_count": 7,
   "metadata": {
    "collapsed": true
   },
   "outputs": [],
   "source": [
    "def ground_to_obc(angle, channel, fss='b'):\n",
    "    \"\"\"\n",
    "    Convert ``angle`` from ground telemetry (AOALPANG or AOBETANG) to output ``angle``\n",
    "    (degrees) in the OBC for the given ``channel`` ('alpha' or 'beta') and ``fss``\n",
    "    ('a' or 'b').\n",
    "    \"\"\"\n",
    "    y = ALPHA_ANG if channel == 'alpha' else BETA_ANG\n",
    "    f_counts = interpolate(COUNTS, y, angle)\n",
    "    counts = interpolate(COUNTS, y, angle, method='nearest')\n",
    "    if np.any(np.abs(f_counts - counts) > 0.01):\n",
    "        raise ValueError('Bad calibration inversion')\n",
    "\n",
    "    c0, c1, c2 = FSS_CAL[fss][channel]\n",
    "    angle = np.degrees(np.arctan(c0 + c1 * counts) + c2)\n",
    "\n",
    "    return angle"
   ]
  },
  {
   "cell_type": "code",
   "execution_count": 8,
   "metadata": {
    "collapsed": true
   },
   "outputs": [],
   "source": [
    "def get_obc_fss_angles(start='2015:001', stop='2015:004', subsample=None):\n",
    "    dat = fetch.MSIDset(['aoalpang', 'aobetang', 'aoalpsun', 'aobetsun'],\n",
    "                        start, stop)\n",
    "    dat.interpolate(1.025, bad_union=True)\n",
    "\n",
    "    dwells = events.dwells()\n",
    "    dwells.interval_pad = -300\n",
    "\n",
    "    bad = (dat['aoalpsun'].vals == 'NSUN') | (dat['aobetsun'].vals == 'NSUN')\n",
    "    for msid in dat.keys():\n",
    "        dat[msid].filter_bad(bad)\n",
    "        dat[msid].select_intervals(dwells)\n",
    "    dat.interpolate(times=dat['aoalpang'].times[slice(None, None, subsample)])\n",
    "    dat.times = dat['aoalpang'].times\n",
    "\n",
    "    fss = 'a' if Time(start) < Time('2013-05-10') else 'b'\n",
    "    obc_alpang = ground_to_obc(dat['aoalpang'].vals, 'alpha', fss=fss)\n",
    "    obc_betang = ground_to_obc(dat['aobetang'].vals, 'beta', fss=fss)\n",
    "\n",
    "    return dat, obc_alpang, obc_betang"
   ]
  },
  {
   "cell_type": "code",
   "execution_count": 9,
   "metadata": {
    "collapsed": true
   },
   "outputs": [],
   "source": [
    "def arccos_clip(x):\n",
    "    return np.arccos(x.clip(-1, 1))"
   ]
  },
  {
   "cell_type": "code",
   "execution_count": 10,
   "metadata": {
    "collapsed": true
   },
   "outputs": [],
   "source": [
    "def calc_pitch_roll_from_fss_angles(alpha, beta, fss='b'):\n",
    "    \"\"\"\n",
    "    Adapted from Ska.engarchive.derived.pcad.DP_ROLL_FSS\n",
    "    ``alpha`` and ``beta`` are FSS angles in degrees.\n",
    "    Output is ``pitch`` and ``roll`` in degrees\n",
    "    \"\"\"\n",
    "    # rotation matrix from FSS to ACA frame\n",
    "    fss_align = ODB_FSS_MISALIGN[1:4, 1:4, (2 if fss == 'b' else 1)]\n",
    "\n",
    "    # FSS's sun vector in FSS frame\n",
    "    alpha = np.radians(alpha)\n",
    "    beta = np.radians(beta)\n",
    "\n",
    "    sun_fss = np.array([np.tan(beta), np.tan(alpha), -np.ones(len(alpha))])\n",
    "    sun_aca = fss_align.dot(sun_fss)\n",
    "    magnitude = np.sqrt((sun_aca * sun_aca).sum(axis=0))\n",
    "    bads = magnitude == 0.0\n",
    "    magnitude[bads] = 1.0\n",
    "    sun_vec_norm = sun_aca / magnitude\n",
    "\n",
    "    roll = np.degrees(np.arctan2(-sun_vec_norm[1, :], -sun_vec_norm[2, :]))\n",
    "    pitch = np.degrees(np.arccos(sun_vec_norm[0].clip(-1, 1)))\n",
    "\n",
    "    return pitch, roll"
   ]
  },
  {
   "cell_type": "code",
   "execution_count": 11,
   "metadata": {
    "collapsed": false
   },
   "outputs": [],
   "source": [
    "start = '2015:230'\n",
    "stop = '2015:264:05:00:00'\n",
    "subsample = 10\n",
    "\n",
    "obc_dat, obc_alp, obc_bet = get_obc_fss_angles(start, stop, subsample)"
   ]
  },
  {
   "cell_type": "code",
   "execution_count": 12,
   "metadata": {
    "collapsed": false
   },
   "outputs": [],
   "source": [
    "fss = 'a' if Time(start) < Time('2013-05-10') else 'b'\n",
    "obc_pitch, obc_roll = calc_pitch_roll_from_fss_angles(obc_alp, obc_bet, fss)\n",
    "gnd = fetch.Msidset(['pitch', 'roll'], start, stop)\n",
    "gnd.interpolate(times=obc_dat.times)"
   ]
  },
  {
   "cell_type": "code",
   "execution_count": 13,
   "metadata": {
    "collapsed": false
   },
   "outputs": [],
   "source": [
    "def plot_delta_vs_pitch_roll():\n",
    "    plt.figure(figsize=(12, 10))\n",
    "\n",
    "    plt.subplot(2, 2, 1)\n",
    "    plt.plot(obc_roll, (obc_pitch - gnd['pitch'].vals), '.b')\n",
    "    plt.margins(0.05)\n",
    "    plt.grid()\n",
    "    plt.ylabel('Delta pitch (deg)')\n",
    "    plt.xlabel('Pitch (deg)')\n",
    "    plt.title('OBC pitch - ground pitch vs. roll')\n",
    "\n",
    "    plt.subplot(2, 2, 2)\n",
    "    plt.plot(obc_pitch, (obc_pitch - gnd['pitch'].vals), '.b')\n",
    "    plt.margins(0.05)\n",
    "    plt.grid()\n",
    "    plt.ylabel('Delta pitch (deg)')\n",
    "    plt.xlabel('Pitch (deg)')\n",
    "    plt.title('OBC pitch - ground pitch vs. pitch')\n",
    "\n",
    "    plt.subplot(2, 2, 3)\n",
    "    plt.plot(obc_roll, (obc_roll - gnd['roll'].vals), '.b')\n",
    "    plt.margins(0.05)\n",
    "    plt.ylabel('Delta roll (deg)')\n",
    "    plt.xlabel('Roll (deg)')\n",
    "    plt.grid()\n",
    "    plt.title('OBC roll - ground roll vs. roll')\n",
    "\n",
    "    plt.subplot(2, 2, 4)\n",
    "    plt.plot(obc_pitch, (obc_roll - gnd['roll'].vals), '.b')\n",
    "    plt.margins(0.05)\n",
    "    plt.ylabel('Delta roll (deg)')\n",
    "    plt.xlabel('Pitch (deg)')\n",
    "    plt.grid()\n",
    "    plt.title('OBC roll - ground roll vs. pitch')"
   ]
  },
  {
   "cell_type": "markdown",
   "metadata": {},
   "source": [
    "## Delta pitch/roll vs pitch/roll\n",
    "\n",
    "- `OBC_pitch = OBC value of pitch from FSS (proxy to SPM)`\n",
    "- `Ground_pitch = Ground value of pitch from attitude and ephemeris (proxy to MCC)`\n",
    "- `Delta_pitch = OBC_pitch = Ground_pitch`\n",
    "\n",
    "(And likewise for roll)\n",
    "\n",
    "The four plots below show `Delta_pitch vs. roll`, `Delta_pitch vs. pitch`, `Delta_roll vs. roll`, and `Delta_roll vs. pitch`\n",
    "\n",
    "There is a clear correlation between `Delta_roll` and `pitch`.  \n",
    "\n",
    "Since the FSS counts-to-angle calibration for roll is independent of pitch (no axis cross-coupling), this indicates that the FSS-ACA transformation is the primary source of error."
   ]
  },
  {
   "cell_type": "code",
   "execution_count": 14,
   "metadata": {
    "collapsed": false
   },
   "outputs": [
    {
     "data": {
      "image/png": "[encoded data removed]",
      "text/plain": [
       "<matplotlib.figure.Figure at 0x7f2a090c8c10>"
      ]
     },
     "metadata": {},
     "output_type": "display_data"
    }
   ],
   "source": [
    "plot_delta_vs_pitch_roll()"
   ]
  },
  {
   "cell_type": "markdown",
   "metadata": {},
   "source": [
    "## Delta pitch/roll vs time"
   ]
  },
  {
   "cell_type": "code",
   "execution_count": 15,
   "metadata": {
    "collapsed": false
   },
   "outputs": [
    {
     "data": {
      "image/png": "[encoded data removed]",
      "text/plain": [
       "<matplotlib.figure.Figure at 0x7f29fabfd850>"
      ]
     },
     "metadata": {},
     "output_type": "display_data"
    }
   ],
   "source": [
    "plot_cxctime(obc_dat.times, (obc_pitch - gnd['pitch'].vals), ',b',\n",
    "             label='Pitch')\n",
    "plot_cxctime(obc_dat.times, (obc_roll - gnd['roll'].vals), ',r',\n",
    "             label='Roll')\n",
    "plt.margins(0.05)\n",
    "plt.grid()\n",
    "plt.title('OBC pitch/roll - ground pitch/roll vs. time');"
   ]
  },
  {
   "cell_type": "code",
   "execution_count": 16,
   "metadata": {
    "collapsed": false
   },
   "outputs": [
    {
     "name": "stdout",
     "output_type": "stream",
     "text": [
      "Final delta roll before safe mode: 0.44 deg at 2015:264:04:30:59.876\n"
     ]
    }
   ],
   "source": [
    "print('Final delta roll before safe mode: {:.2f} deg at {}'\n",
    "      .format(obc_roll[-1] - gnd['roll'].vals[-1], \n",
    "              Time(obc_dat.times[-1], format='cxcsec').yday))"
   ]
  }
 ],
 "metadata": {
  "kernelspec": {
   "display_name": "Python 2",
   "language": "python",
   "name": "python2"
  },
  "language_info": {
   "codemirror_mode": {
    "name": "ipython",
    "version": 2
   },
   "file_extension": ".py",
   "mimetype": "text/x-python",
   "name": "python",
   "nbconvert_exporter": "python",
   "pygments_lexer": "ipython2",
   "version": "2.7.9"
  }
 },
 "nbformat": 4,
 "nbformat_minor": 0
}
